{
 "cells": [
  {
   "cell_type": "markdown",
   "id": "bf5d5f5b",
   "metadata": {},
   "source": [
    "## Random agent"
   ]
  },
  {
   "cell_type": "code",
   "execution_count": 1,
   "id": "76800484",
   "metadata": {},
   "outputs": [],
   "source": [
    "import gym\n",
    "from gym.wrappers import Monitor\n",
    "from config import env\n",
    "env = Monitor(env, './video', force=True)\n",
    "env.reset()\n",
    "done=False\n",
    "#random agent\n",
    "while not done:\n",
    "    env.render()\n",
    "    action=env.action_space.sample()# take a random action\n",
    "    next_state,reward,done,_=env.step(action) \n",
    "env.close()"
   ]
  },
  {
   "cell_type": "markdown",
   "id": "6b9ddba4",
   "metadata": {},
   "source": [
    "DQN"
   ]
  },
  {
   "cell_type": "code",
   "execution_count": 2,
   "id": "87fc707f",
   "metadata": {},
   "outputs": [],
   "source": [
    "#import necessary packages\n",
    "import torch\n",
    "import torch.nn as nn\n",
    "import torch.nn.functional as F\n",
    "import torch.optim as optim\n",
    "import matplotlib.pyplot as plt\n"
   ]
  },
  {
   "cell_type": "code",
   "execution_count": 4,
   "id": "bcb32402",
   "metadata": {},
   "outputs": [
    {
     "name": "stdout",
     "output_type": "stream",
     "text": [
      "cuda\n"
     ]
    }
   ],
   "source": [
    "#getting the gpu\n",
    "device=torch.device(\"cuda\" if torch.cuda.is_available() else 'cpu')\n",
    "print(device)"
   ]
  },
  {
   "cell_type": "code",
   "execution_count": null,
   "id": "3513d8fe",
   "metadata": {},
   "outputs": [],
   "source": []
  }
 ],
 "metadata": {
  "kernelspec": {
   "display_name": "Python 3",
   "language": "python",
   "name": "python3"
  },
  "language_info": {
   "codemirror_mode": {
    "name": "ipython",
    "version": 3
   },
   "file_extension": ".py",
   "mimetype": "text/x-python",
   "name": "python",
   "nbconvert_exporter": "python",
   "pygments_lexer": "ipython3",
   "version": "3.9.5"
  }
 },
 "nbformat": 4,
 "nbformat_minor": 5
}
